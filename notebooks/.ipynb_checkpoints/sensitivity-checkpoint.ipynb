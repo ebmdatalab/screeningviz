{
 "cells": [
  {
   "cell_type": "code",
   "execution_count": 3,
   "metadata": {},
   "outputs": [
    {
     "name": "stdout",
     "output_type": "stream",
     "text": [
      "15 2 3294 6689\n"
     ]
    }
   ],
   "source": [
    "# the proportion of actual positives that are correctly identified as such\n",
    "sensitivity = 0.86\n",
    "# the proportion of actual negatives that are correctly identified as such \n",
    "specificity = 0.33\n",
    "n = 10000\n",
    "prevalence = 172.6/100000\n",
    "mortality = 47.2/100000\n",
    "\n",
    "########\n",
    "\n",
    "affected = prevalence * n\n",
    "not_affected = n - affected\n",
    "deaths_without_treatment = mortality * n\n",
    "\n",
    "#########\n",
    "\n",
    "true_positive = round(sensitivity * affected)\n",
    "false_negative = round(affected - true_positive)\n",
    "true_negative = round(specificity * not_affected)\n",
    "false_positive = round(not_affected - true_negative)\n",
    "\n",
    "print(true_positive, false_negative, true_negative, false_positive)"
   ]
  },
  {
   "cell_type": "code",
   "execution_count": 4,
   "metadata": {},
   "outputs": [
    {
     "name": "stdout",
     "output_type": "stream",
     "text": [
      "Of 5 deaths without treatment, 4 extra people would be cured, 67 people would be harmed, 1 extra people would die\n"
     ]
    }
   ],
   "source": [
    "treatment_cure_rate = 0.89\n",
    "treatment_harm_rate = 0.01\n",
    "treatment_mortality_rate = 0.0001\n",
    "print(\"Of {:.0f} deaths without treatment, {:.0f} extra people would be cured, {:.0f} people would be harmed, {:.0f} extra people would die\".format(\n",
    "    deaths_without_treatment, \n",
    "    (treatment_cure_rate * true_positive * mortality / prevalence),\n",
    "    treatment_harm_rate * false_positive  + treatment_harm_rate * true_positive,\n",
    "    treatment_mortality_rate * false_positive + treatment_mortality_rate * true_positive\n",
    "))"
   ]
  }
 ],
 "metadata": {
  "kernelspec": {
   "display_name": "Python (jupyter virtualenv)",
   "language": "python",
   "name": "jupyter"
  },
  "language_info": {
   "codemirror_mode": {
    "name": "ipython",
    "version": 3
   },
   "file_extension": ".py",
   "mimetype": "text/x-python",
   "name": "python",
   "nbconvert_exporter": "python",
   "pygments_lexer": "ipython3",
   "version": "3.6.5"
  }
 },
 "nbformat": 4,
 "nbformat_minor": 2
}
